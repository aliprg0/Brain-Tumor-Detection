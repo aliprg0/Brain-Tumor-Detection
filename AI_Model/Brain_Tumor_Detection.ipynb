{
  "cells": [
    {
      "cell_type": "code",
      "execution_count": null,
      "metadata": {
        "colab": {
          "base_uri": "https://localhost:8080/"
        },
        "id": "ekBQJO9optIy",
        "outputId": "a7127690-86d2-4ae5-d3e7-42b43e520703"
      },
      "outputs": [
        {
          "output_type": "stream",
          "name": "stdout",
          "text": [
            "Mounted at /content/drive\n"
          ]
        }
      ],
      "source": [
        "from google.colab import drive\n",
        "drive.mount('/content/drive')"
      ]
    },
    {
      "cell_type": "code",
      "execution_count": null,
      "metadata": {
        "id": "C2e6t1C1H3XY"
      },
      "outputs": [],
      "source": [
        "import os"
      ]
    },
    {
      "cell_type": "code",
      "execution_count": null,
      "metadata": {
        "colab": {
          "base_uri": "https://localhost:8080/"
        },
        "id": "pm-oQtqwH4LY",
        "outputId": "485494c8-b81e-488f-fbbc-1aec550a36c9"
      },
      "outputs": [
        {
          "output_type": "stream",
          "name": "stdout",
          "text": [
            "['y1460.jpg', 'y1123.jpg', 'y177.jpg', 'y1030.jpg', 'y1192.jpg', 'y1471.jpg', 'y133.jpg', 'y1253.jpg', 'y1222.jpg', 'y1492.jpg', 'y1313.jpg', 'y1111.jpg', 'y182.jpg', 'y1459.jpg', 'y1050.jpg', 'y1388.jpg', 'y14.jpg', 'y1284.jpg', 'y1447.jpg', 'y1093.jpg', 'y1187.jpg', 'y1251.jpg', 'y127.jpg', 'y162.jpg', 'y1202.jpg', 'y1231.jpg', 'y1126.jpg', 'y1416.jpg', 'y156.jpg', 'y1399.jpg', 'y1168.jpg', 'y1348.jpg', 'y136.jpg', 'y1049.jpg', 'y1112.jpg', 'y1358.jpg', 'y1296.jpg', 'y1298.jpg', 'y110.jpg', 'y202.jpg', 'y1288.jpg', 'y1085.jpg', 'y1371.jpg', 'y1328.jpg', 'y1265.jpg', 'y166.jpg', 'y1295.jpg', 'y1318.jpg', 'y158.jpg', 'y1132.jpg', 'y1141.jpg', 'y1211.jpg', 'y1464.jpg', 'y1063.jpg', 'y1351.jpg', 'y205.jpg', 'y1461.jpg', 'y1252.jpg', 'y1453.jpg', 'y142.jpg', 'y1419.jpg', 'y1257.jpg', 'y204.jpg', 'y1193.jpg', 'y1230.jpg', 'y1007.jpg', 'y193.jpg', 'y1184.jpg', 'y1001.jpg', 'y1177.jpg', 'y1261.jpg', 'y1266.jpg', 'y1146.jpg', 'y1246.jpg', 'y1360.jpg', 'y1378.jpg', 'y1494.jpg', 'y2.jpg', 'y164.jpg', 'y1331.jpg', 'y1056.jpg', 'y1275.jpg', 'y1162.jpg', 'y1058.jpg', 'y1012.jpg', 'y1339.jpg', 'y196.jpg', 'y1255.jpg', 'y1364.jpg', 'y1104.jpg', 'y1153.jpg', 'y1424.jpg', 'y1210.jpg', 'y1340.jpg', 'y1439.jpg', 'y1472.jpg', 'y154.jpg', 'y1100.jpg', 'y1383.jpg', 'y123.jpg', 'y1101.jpg', 'y1267.jpg', 'y1300.jpg', 'y1418.jpg', 'y1094.jpg', 'y140.jpg', 'y152.jpg', 'y1290.jpg', 'y1483.jpg', 'y1408.jpg', 'y1476.jpg', 'y1499.jpg', 'y1264.jpg', 'y1431.jpg', 'y1215.jpg', 'y1390.jpg', 'y1235.jpg', 'y1020.jpg', 'y1475.jpg', 'y1072.jpg', 'y1406.jpg', 'y1197.jpg', 'y330.jpg', 'y597.jpg', 'y528.jpg', 'y947.jpg', 'y208.jpg', 'y83.jpg', 'y717.jpg', 'y673.jpg', 'y340.jpg', 'y327.jpg', 'y354.jpg', 'y707.jpg', 'y33.jpg', 'y847.jpg', 'y469.jpg', 'y372.jpg', 'y942.jpg', 'y689.jpg', 'y623.jpg', 'y261.jpg', 'y910.jpg', 'y998.jpg', 'y954.jpg', 'y514.jpg', 'y373.jpg', 'y533.jpg', 'y877.jpg', 'y441.jpg', 'y715.jpg', 'y794.jpg', 'y219.jpg', 'y768.jpg', 'y765.jpg', 'y255.jpg', 'y73.jpg', 'y487.jpg', 'y288.jpg', 'y685.jpg', 'y370.jpg', 'y876.jpg', 'y764.jpg', 'y694.jpg', 'y399.jpg', 'y346.jpg', 'y968.jpg', 'y701.jpg', 'y513.jpg', 'y436.jpg', 'y294.jpg', 'y416.jpg', 'y374.jpg', 'y444.jpg', 'y879.jpg', 'y741.jpg', 'y470.jpg', 'y735.jpg', 'y497.jpg', 'y572.jpg', 'y969.jpg', 'y491.jpg', 'y256.jpg', 'y343.jpg', 'y866.jpg', 'y666.jpg', 'y789.jpg', 'y726.jpg', 'y451.jpg', 'y569.jpg', 'y336.jpg', 'y44.jpg', 'y606.jpg', 'y554.jpg', 'y66.jpg', 'y504.jpg', 'y897.jpg', 'y277.jpg', 'y91.jpg', 'y363.jpg', 'y964.jpg', 'y850.jpg', 'y96.jpg', 'y654.jpg', 'y426.jpg', 'y629.jpg', 'y788.jpg', 'y407.jpg', 'y240.jpg', 'y548.jpg', 'y977.jpg', 'y675.jpg', 'y584.jpg', 'y614.jpg', 'y82.jpg', 'y613.jpg', 'y59.jpg', 'y63.jpg', 'y537.jpg', 'y434.jpg', 'y389.jpg', 'y822.jpg', 'y368.jpg', 'y598.jpg', 'y984.jpg', 'y23.jpg', 'y545.jpg', 'y802.jpg', 'y449.jpg', 'y437.jpg', 'y397.jpg', 'y468.jpg', 'y79.jpg', 'y958.jpg', 'y869.jpg', 'y220.jpg', 'y402.jpg', 'y383.jpg', 'y72.jpg', 'y425.jpg', 'y557.jpg', 'y296.jpg', 'y321.jpg', 'y878.jpg', 'y920.jpg', 'y721.jpg', 'y824.jpg', 'y547.jpg', 'y899.jpg', 'y886.jpg', 'y561.jpg', 'y369.jpg', 'y915.jpg', 'y591.jpg', 'y801.jpg', 'y849.jpg', 'y226.jpg', 'y525.jpg', 'y607.jpg', 'y786.jpg', 'y922.jpg', 'y684.jpg', 'y833.jpg', 'y266.jpg', 'y478.jpg', 'y77.jpg', 'y42.jpg', 'y994.jpg', 'y395.jpg', 'y297.jpg', 'y454.jpg', 'y628.jpg', 'y960.jpg', 'y596.jpg', 'y645.jpg', 'y810.jpg', 'y242.jpg', 'y418.jpg', 'y518.jpg', 'y328.jpg', 'y830.jpg', 'y352.jpg', 'y251.jpg', 'y421.jpg', 'y430.jpg', 'y521.jpg', 'y883.jpg', 'y608.jpg', 'y709.jpg', 'y380.jpg', 'y953.jpg', 'y245.jpg', 'y495.jpg', 'y519.jpg', 'y530.jpg', 'y21.jpg', 'y601.jpg', 'y708.jpg', 'y377.jpg', 'y907.jpg', 'y763.jpg', 'y98.jpg', 'y812.jpg', 'y37.jpg', 'y926.jpg', 'y222.jpg', 'y739.jpg', 'y700.jpg', 'y566.jpg', 'y880.jpg', 'y655.jpg', 'y585.jpg', 'y653.jpg', 'y74.jpg', 'y490.jpg', 'y259.jpg', 'y52.jpg', 'y578.jpg', 'y409.jpg', 'y78.jpg', 'y999.jpg', 'y28.jpg', 'y995.jpg', 'y925.jpg', 'y97.jpg', 'y762.jpg', 'y865.jpg', 'y443.jpg', 'y70.jpg', 'y46.jpg', 'y615.jpg', 'y586.jpg', 'y854.jpg', 'y573.jpg', 'y992.jpg', 'y641.jpg', 'y896.jpg', 'y463.jpg', 'y853.jpg', 'y510.jpg', 'y823.jpg', 'y835.jpg', 'y766.jpg', 'y834.jpg', 'y404.jpg', 'y210.jpg', 'y475.jpg', 'y471.jpg', 'y432.jpg', 'y86.jpg', 'y990.jpg', 'y320.jpg', 'y25.jpg', 'y635.jpg', 'y233.jpg', 'y646.jpg', 'y592.jpg', 'y331.jpg', 'y718.jpg', 'y356.jpg', 'y904.jpg', 'y90.jpg', 'y271.jpg', 'y758.jpg', 'y484.jpg', 'y239.jpg', 'y492.jpg', 'y577.jpg', 'y411.jpg', 'y520.jpg', 'y754.jpg', 'y62.jpg', 'y625.jpg', 'y496.jpg', 'y837.jpg', 'y627.jpg', 'y917.jpg', 'y662.jpg', 'y465.jpg', 'y384.jpg', 'y945.jpg', 'y238.jpg', 'y474.jpg', 'y648.jpg', 'y705.jpg', 'y772.jpg', 'y365.jpg', 'y697.jpg', 'y665.jpg', 'y366.jpg', 'y457.jpg', 'y307.jpg', 'y720.jpg', 'y664.jpg', 'y713.jpg', 'y358.jpg', 'y31.jpg', 'y247.jpg', 'y882.jpg', 'y642.jpg', 'y946.jpg', 'y515.jpg', 'y535.jpg', 'y274.jpg', 'y611.jpg', 'y423.jpg', 'y232.jpg', 'y302.jpg', 'y415.jpg', 'y795.jpg', 'y973.jpg', 'y438.jpg', 'y64.jpg', 'y778.jpg', 'y318.jpg', 'y620.jpg', 'y310.jpg', 'y479.jpg', 'y36.jpg', 'y477.jpg', 'y884.jpg', 'y782.jpg', 'y575.jpg', 'y314.jpg', 'y774.jpg', 'y279.jpg', 'y71.jpg', 'y949.jpg', 'y462.jpg', 'y932.jpg', 'y603.jpg', 'y503.jpg', 'y746.jpg', 'y427.jpg', 'y621.jpg', 'y67.jpg', 'y405.jpg', 'y217.jpg', 'y916.jpg', 'y93.jpg', 'y84.jpg', 'y703.jpg', 'y4.jpg', 'y7.jpg', 'y892.jpg', 'y338.jpg', 'y632.jpg', 'y212.jpg', 'y749.jpg', 'y924.jpg', 'y43.jpg', 'y952.jpg', 'y781.jpg', 'y941.jpg', 'y355.jpg', 'y311.jpg', 'y873.jpg', 'y982.jpg', 'y507.jpg', 'y670.jpg', 'y447.jpg', 'y39.jpg', 'y214.jpg', 'y250.jpg', 'y858.jpg', 'y985.jpg', 'y403.jpg', 'y394.jpg', 'y549.jpg', 'y524.jpg', 'y22.jpg', 'y248.jpg', 'y422.jpg', 'y750.jpg', 'y630.jpg', 'y551.jpg', 'y334.jpg', 'y499.jpg', 'y696.jpg', 'y292.jpg', 'y458.jpg', 'y275.jpg', 'y987.jpg', 'y76.jpg', 'y773.jpg', 'y900.jpg', 'y241.jpg', 'y731.jpg', 'y807.jpg', 'y230.jpg', 'y860.jpg', 'y568.jpg', 'y439.jpg', 'y771.jpg', 'y435.jpg', 'y406.jpg', 'y737.jpg', 'y231.jpg', 'y424.jpg', 'y723.jpg', 'y326.jpg', 'y565.jpg', 'y493.jpg', 'y631.jpg', 'y420.jpg', 'y692.jpg', 'y640.jpg', 'y874.jpg', 'y683.jpg', 'y957.jpg', 'y306.jpg', 'y759.jpg', 'y902.jpg', 'y844.jpg', 'y209.jpg', 'y361.jpg', 'y888.jpg', 'y976.jpg', 'y643.jpg', 'y610.jpg', 'y881.jpg', 'y509.jpg', 'y550.jpg', 'y971.jpg', 'y848.jpg', 'y347.jpg', 'y639.jpg', 'y616.jpg', 'y793.jpg', 'y660.jpg', 'y529.jpg', 'y891.jpg', 'y935.jpg', 'y661.jpg', 'y695.jpg', 'y341.jpg', 'y532.jpg', 'y931.jpg', 'y638.jpg', 'y433.jpg', 'y803.jpg', 'y710.jpg', 'y980.jpg', 'y55.jpg', 'y48.jpg', 'y805.jpg', 'y481.jpg', 'y961.jpg', 'y229.jpg', 'y936.jpg', 'y651.jpg', 'y353.jpg', 'y956.jpg', 'y216.jpg', 'y362.jpg', 'y531.jpg', 'y564.jpg', 'y963.jpg', 'y92.jpg', 'y285.jpg', 'y287.jpg', 'y667.jpg', 'y53.jpg', 'y819.jpg', 'y760.jpg', 'y246.jpg', 'y41.jpg', 'y919.jpg', 'y574.jpg', 'y213.jpg', 'y386.jpg', 'y60.jpg', 'y357.jpg', 'y516.jpg', 'y280.jpg', 'y419.jpg', 'y933.jpg', 'y636.jpg', 'y253.jpg', 'y272.jpg', 'y581.jpg', 'y332.jpg', 'y378.jpg', 'y851.jpg', 'y826.jpg', 'y676.jpg', 'y862.jpg', 'y966.jpg', 'y600.jpg', 'y846.jpg', 'y483.jpg', 'y943.jpg', 'y32.jpg', 'y508.jpg', 'y45.jpg', 'y335.jpg', 'y579.jpg', 'y400.jpg', 'y908.jpg', 'y87.jpg', 'y659.jpg', 'y618.jpg', 'y814.jpg', 'y937.jpg', 'y391.jpg', 'y498.jpg', 'y224.jpg', 'y38.jpg', 'y617.jpg', 'y742.jpg', 'y517.jpg', 'y818.jpg', 'y387.jpg', 'y281.jpg', 'y284.jpg', 'y668.jpg', 'y523.jpg', 'y480.jpg', 'y225.jpg', 'y827.jpg', 'y588.jpg', 'y732.jpg', 'y893.jpg', 'y295.jpg', 'y555.jpg', 'y590.jpg', 'y506.jpg', 'y273.jpg', 'y599.jpg', 'y446.jpg', 'y962.jpg', 'y796.jpg', 'y262.jpg', 'y647.jpg', 'y914.jpg', 'y466.jpg', 'y371.jpg', 'y787.jpg', 'y526.jpg', 'y264.jpg', 'y473.jpg', 'y593.jpg', 'y930.jpg', 'y442.jpg', 'y527.jpg', 'y268.jpg', 'y923.jpg', 'y816.jpg', 'y218.jpg', 'y350.jpg', 'y50.jpg', 'y282.jpg', 'y448.jpg', 'y5.jpg', 'y556.jpg', 'y809.jpg', 'y278.jpg', 'y840.jpg', 'y804.jpg', 'y791.jpg', 'y244.jpg', 'y337.jpg', 'y486.jpg', 'y431.jpg', 'y756.jpg', 'y790.jpg', 'y315.jpg', 'y489.jpg', 'y234.jpg', 'y382.jpg', 'y903.jpg', 'y583.jpg', 'y975.jpg', 'y47.jpg', 'y729.jpg', 'y870.jpg', 'y950.jpg', 'y75.jpg', 'y752.jpg', 'y333.jpg', 'y512.jpg', 'y26.jpg', 'y602.jpg', 'y286.jpg', 'y663.jpg', 'y706.jpg', 'y88.jpg', 'y576.jpg', 'y895.jpg', 'y367.jpg', 'y686.jpg', 'y304.jpg', 'y381.jpg', 'y464.jpg', 'y456.jpg', 'y582.jpg', 'y734.jpg', 'y542.jpg', 'y301.jpg', 'y329.jpg', 'y393.jpg', 'y401.jpg', 'y348.jpg', 'y589.jpg', 'y983.jpg', 'y293.jpg', 'y712.jpg', 'y339.jpg', 'y291.jpg', 'y453.jpg', 'y820.jpg', 'y375.jpg', 'y680.jpg', 'y305.jpg', 'y604.jpg', 'y857.jpg', 'y798.jpg', 'y828.jpg', 'y674.jpg', 'y972.jpg', 'y81.jpg', 'y872.jpg', 'y751.jpg', 'y461.jpg', 'y392.jpg', 'y61.jpg', 'y580.jpg', 'y237.jpg', 'y970.jpg', 'y417.jpg', 'y753.jpg', 'y570.jpg', 'y905.jpg', 'y236.jpg', 'y906.jpg', 'y505.jpg', 'y541.jpg', 'y265.jpg', 'y783.jpg', 'y445.jpg', 'y838.jpg', 'y488.jpg', 'y728.jpg', 'y652.jpg', 'y215.jpg', 'y413.jpg', 'y65.jpg', 'y546.jpg', 'y747.jpg', 'y761.jpg', 'y89.jpg', 'y867.jpg', 'y563.jpg', 'y501.jpg', 'y85.jpg', 'y414.jpg', 'y842.jpg', 'y738.jpg', 'y671.jpg', 'y559.jpg', 'y494.jpg', 'y452.jpg', 'y243.jpg', 'y637.jpg', 'y254.jpg', 'y227.jpg', 'y460.jpg', 'y455.jpg', 'y633.jpg', 'y711.jpg', 'y669.jpg', 'y612.jpg', 'y863.jpg', 'y408.jpg', 'y54.jpg', 'y797.jpg', 'y538.jpg', 'y3.jpg', 'y777.jpg', 'y360.jpg', 'y325.jpg', 'y821.jpg', 'y989.jpg', 'y775.jpg', 'y918.jpg', 'y940.jpg', 'y6.jpg', 'y691.jpg', 'y298.jpg', 'y396.jpg', 'y951.jpg', 'y8.jpg', 'y428.jpg', 'y95.jpg', 'y939.jpg', 'y911.jpg', 'y69.jpg', 'y322.jpg', 'y99.jpg', 'y792.jpg', 'y806.jpg', 'y342.jpg', 'y482.jpg', 'y258.jpg', 'y317.jpg', 'y429.jpg', 'y716.jpg', 'y682.jpg', 'y687.jpg', 'y221.jpg', 'y871.jpg', 'y808.jpg', 'y745.jpg', 'y769.jpg', 'y693.jpg', 'y49.jpg', 'y979.jpg', 'y476.jpg', 'y379.jpg', 'y316.jpg', 'y730.jpg', 'y351.jpg', 'y841.jpg', 'y889.jpg', 'y644.jpg', 'y345.jpg', 'y836.jpg', 'y832.jpg', 'y540.jpg', 'y839.jpg', 'y56.jpg', 'y536.jpg', 'y938.jpg', 'y539.jpg', 'y594.jpg', 'y257.jpg', 'y868.jpg', 'y744.jpg', 'y263.jpg', 'y349.jpg', 'y376.jpg', 'y40.jpg', 'y500.jpg', 'y800.jpg', 'y784.jpg', 'y412.jpg', 'y51.jpg', 'y722.jpg', 'y553.jpg', 'y650.jpg', 'y558.jpg', 'y898.jpg', 'y9.jpg', 'y634.jpg', 'y587.jpg', 'y299.jpg', 'y856.jpg', 'y269.jpg', 'y859.jpg', 'y829.jpg', 'y944.jpg', 'y534.jpg', 'y817.jpg', 'y959.jpg', 'y622.jpg', 'y688.jpg', 'y276.jpg', 'y595.jpg', 'y901.jpg', 'y567.jpg', 'y967.jpg', 'y928.jpg', 'y890.jpg', 'y974.jpg', 'y440.jpg', 'y714.jpg', 'y770.jpg', 'y719.jpg', 'y815.jpg', 'y390.jpg', 'y991.jpg', 'y58.jpg', 'y727.jpg', 'y887.jpg', 'y235.jpg', 'y312.jpg', 'y921.jpg', 'y223.jpg', 'y743.jpg', 'y649.jpg', 'y80.jpg', 'y609.jpg', 'y677.jpg', 'y57.jpg', 'y502.jpg', 'y997.jpg', 'y757.jpg', 'y894.jpg', 'y934.jpg', 'y724.jpg', 'y252.jpg', 'y929.jpg', 'y725.jpg', 'y909.jpg', 'y658.jpg', 'y927.jpg', 'y672.jpg', 'y831.jpg', 'y450.jpg', 'y34.jpg', 'y619.jpg', 'y260.jpg', 'y843.jpg', 'y767.jpg', 'y467.jpg', 'y986.jpg', 'y799.jpg', 'y68.jpg', 'y981.jpg', 'y993.jpg', 'y780.jpg', 'y359.jpg', 'y522.jpg', 'y511.jpg', 'y560.jpg', 'y544.jpg', 'y852.jpg', 'y308.jpg', 'y811.jpg', 'y300.jpg', 'y779.jpg', 'y324.jpg', 'y912.jpg', 'y678.jpg', 'y679.jpg', 'y855.jpg', 'y552.jpg', 'y211.jpg', 'y825.jpg', 'y785.jpg', 'y410.jpg', 'y755.jpg', 'y270.jpg', 'y94.jpg', 'y29.jpg', 'y864.jpg', 'y323.jpg', 'y813.jpg', 'y364.jpg', 'y228.jpg', 'y543.jpg', 'y913.jpg', 'y948.jpg', 'y290.jpg', 'y459.jpg', 'y776.jpg', 'y740.jpg', 'y656.jpg', 'y485.jpg', 'y571.jpg', 'y955.jpg', 'y845.jpg', 'y289.jpg', 'y605.jpg', 'y736.jpg', 'y965.jpg', 'y885.jpg', 'y35.jpg', 'y875.jpg', 'y626.jpg', 'y283.jpg', 'y388.jpg', 'y702.jpg', 'y681.jpg', 'y690.jpg', 'y309.jpg', 'y385.jpg', 'y398.jpg', 'y748.jpg', 'y996.jpg', 'y267.jpg', 'y704.jpg', 'y303.jpg', 'y472.jpg', 'y30.jpg', 'y319.jpg', 'y562.jpg', 'y861.jpg', 'y657.jpg', 'y733.jpg', 'y624.jpg', 'y344.jpg', 'y699.jpg', 'y313.jpg', 'y978.jpg', 'y988.jpg', 'y698.jpg', 'y24.jpg', 'y249.jpg', 'y27.jpg', 'y1403.jpg', 'y150.jpg', 'y1485.jpg', 'y124.jpg', 'y1470.jpg', 'y203.jpg', 'y190.jpg', 'y19.jpg', 'y206.jpg', 'y1239.jpg', 'y1243.jpg', 'y1238.jpg', 'y170.jpg', 'y1389.jpg', 'y1206.jpg', 'y1486.jpg', 'y1248.jpg', 'y1227.jpg', 'y1144.jpg', 'y1448.jpg', 'y1309.jpg', 'y115.jpg', 'y1315.jpg', 'y159.jpg', 'y1191.jpg', 'y1430.jpg', 'y178.jpg', 'y1242.jpg', 'y1173.jpg', 'y1244.jpg', 'y1188.jpg', 'y1330.jpg', 'y119.jpg', 'y1347.jpg', 'y1356.jpg', 'y100.jpg', 'y176.jpg', 'y1285.jpg', 'y1334.jpg', 'y1098.jpg', 'y1005.jpg', 'y1456.jpg', 'y1237.jpg', 'y1341.jpg', 'y10.jpg', 'y1207.jpg', 'y1047.jpg', 'y1205.jpg', 'y1035.jpg', 'y1199.jpg', 'y1361.jpg', 'y1422.jpg', 'y180.jpg', 'y1073.jpg', 'y1032.jpg', 'y17.jpg', 'y1262.jpg', 'y1152.jpg', 'y1384.jpg', 'y1232.jpg', 'y1016.jpg', 'y1174.jpg', 'y1028.jpg', 'y1344.jpg', 'y1440.jpg', 'y1302.jpg', 'y1373.jpg', 'y161.jpg', 'y1060.jpg', 'y1213.jpg', 'y1387.jpg', 'y1474.jpg', 'y1113.jpg', 'y1179.jpg', 'y1291.jpg', 'y1157.jpg', 'y1118.jpg', 'y172.jpg', 'y149.jpg', 'y1135.jpg', 'y1160.jpg', 'y1321.jpg', 'y1110.jpg', 'y160.jpg', 'y1220.jpg', 'y1156.jpg', 'y11.jpg', 'y1071.jpg', 'y1223.jpg', 'y1061.jpg', 'y1466.jpg', 'y1287.jpg', 'y1273.jpg', 'y1151.jpg', 'y1158.jpg', 'y1345.jpg', 'y1170.jpg', 'y1477.jpg', 'y1365.jpg', 'y106.jpg', 'y1445.jpg', 'y1048.jpg', 'y1075.jpg', 'y1481.jpg', 'y1209.jpg', 'y130.jpg', 'y102.jpg', 'y1161.jpg', 'y1200.jpg', 'y1245.jpg', 'y198.jpg', 'y1219.jpg', 'y1064.jpg', 'y189.jpg', 'y1385.jpg', 'y1092.jpg', 'y1311.jpg', 'y1041.jpg', 'y1055.jpg', 'y1336.jpg', 'y1382.jpg', 'y1271.jpg', 'y192.jpg', 'y144.jpg', 'y1140.jpg', 'y1272.jpg', 'y1029.jpg', 'y1307.jpg', 'y1479.jpg', 'y1249.jpg', 'y1196.jpg', 'y1335.jpg', 'y1070.jpg', 'y1281.jpg', 'y1413.jpg', 'y153.jpg', 'y1107.jpg', 'y1323.jpg', 'y1068.jpg', 'y1484.jpg', 'y20.jpg', 'y1451.jpg', 'y1306.jpg', 'y167.jpg', 'y1480.jpg', 'y1317.jpg', 'y1338.jpg', 'y165.jpg', 'y151.jpg', 'y197.jpg', 'y1324.jpg', 'y1468.jpg', 'y1022.jpg', 'y120.jpg', 'y1087.jpg', 'y201.jpg', 'y1425.jpg', 'y118.jpg', 'y1372.jpg', 'y1352.jpg', 'y1463.jpg', 'y1194.jpg', 'y1002.jpg', 'y1274.jpg', 'y103.jpg', 'y1247.jpg', 'y1401.jpg', 'y1081.jpg', 'y1167.jpg', 'y179.jpg', 'y147.jpg', 'y1279.jpg', 'y1469.jpg', 'y1066.jpg', 'y1319.jpg', 'y1013.jpg', 'y113.jpg', 'y155.jpg', 'y1086.jpg', 'y171.jpg', 'y107.jpg', 'y1304.jpg', 'y1120.jpg', 'y1488.jpg', 'y1224.jpg', 'y1234.jpg', 'y194.jpg', 'y1478.jpg', 'y1178.jpg', 'y1216.jpg', 'y1355.jpg', 'y1489.jpg', 'y1145.jpg', 'y1393.jpg', 'y1343.jpg', 'y1455.jpg', 'y126.jpg', 'y1241.jpg', 'y1397.jpg', 'y1286.jpg', 'y1017.jpg', 'y1143.jpg', 'y1370.jpg', 'y1148.jpg', 'y137.jpg', 'y1031.jpg', 'y104.jpg', 'y1375.jpg', 'y1326.jpg', 'y1357.jpg', 'y1350.jpg', 'y1228.jpg', 'y1332.jpg', 'y1190.jpg', 'y18.jpg', 'y111.jpg', 'y1428.jpg', 'y15.jpg', 'y139.jpg', 'y1077.jpg', 'y1122.jpg', 'y1465.jpg', 'y1369.jpg', 'y1095.jpg', 'y1125.jpg', 'y1443.jpg', 'y1083.jpg', 'y1437.jpg', 'y131.jpg', 'y1433.jpg', 'y1374.jpg', 'y1176.jpg', 'y1059.jpg', 'y1150.jpg', 'y1395.jpg', 'y173.jpg', 'y169.jpg', 'y1004.jpg', 'y1054.jpg', 'y1452.jpg', 'y143.jpg', 'y1137.jpg', 'y1294.jpg', 'y1051.jpg', 'y1283.jpg', 'y1299.jpg', 'y1368.jpg', 'y1254.jpg', 'y1233.jpg', 'y109.jpg', 'y1011.jpg', 'y1026.jpg', 'y1116.jpg', 'y1217.jpg', 'y145.jpg', 'y1109.jpg', 'y1462.jpg', 'y1189.jpg', 'y1129.jpg', 'y1457.jpg', 'y1268.jpg', 'y1018.jpg', 'y1454.jpg', 'y1078.jpg', 'y1108.jpg', 'y116.jpg', 'y1458.jpg', 'y1015.jpg', 'y207.jpg', 'y1259.jpg', 'y1221.jpg', 'y1027.jpg', 'y1310.jpg', 'y1423.jpg', 'y1263.jpg', 'y1212.jpg', 'y1353.jpg', 'y1394.jpg', 'y1164.jpg', 'y1089.jpg', 'y1096.jpg', 'y1256.jpg', 'y1195.jpg', 'y1010.jpg', 'y1473.jpg', 'y1034.jpg', 'y1438.jpg', 'y1105.jpg', 'y1203.jpg', 'y1000.jpg', 'y1342.jpg', 'y1301.jpg', 'y1292.jpg', 'y174.jpg', 'y1155.jpg', 'y1312.jpg', 'y1415.jpg', 'y1014.jpg', 'y188.jpg', 'y1003.jpg', 'y1065.jpg', 'y1130.jpg', 'y157.jpg', 'y1411.jpg', 'y1163.jpg', 'y1427.jpg', 'y1392.jpg', 'y1091.jpg', 'y1270.jpg', 'y1412.jpg', 'y1493.jpg', 'y184.jpg', 'y1037.jpg', 'y1362.jpg', 'y200.jpg', 'y1367.jpg', 'y101.jpg', 'y1359.jpg', 'y1169.jpg', 'y1045.jpg', 'y1033.jpg', 'y1303.jpg', 'y1379.jpg', 'y1432.jpg', 'y1420.jpg', 'y1076.jpg', 'y1040.jpg', 'y1139.jpg', 'y1414.jpg', 'y1442.jpg', 'y1038.jpg', 'y1487.jpg', 'y1084.jpg', 'y1136.jpg', 'y1400.jpg', 'y1450.jpg', 'y1023.jpg', 'y1103.jpg', 'y1496.jpg', 'y121.jpg', 'y1201.jpg', 'y1229.jpg', 'y1376.jpg', 'y1099.jpg', 'y1121.jpg', 'y1467.jpg', 'y1258.jpg', 'y1106.jpg', 'y1171.jpg', 'y1441.jpg', 'y1019.jpg', 'y1046.jpg', 'y185.jpg', 'y1090.jpg', 'y1181.jpg', 'y1377.jpg', 'y1138.jpg', 'y1446.jpg', 'y1276.jpg', 'y1277.jpg', 'y1127.jpg', 'y148.jpg', 'y1097.jpg', 'y128.jpg', 'y1226.jpg', 'y1346.jpg', 'y1314.jpg', 'y1008.jpg', 'y191.jpg', 'y1322.jpg', 'y1434.jpg', 'y1009.jpg', 'y12.jpg', 'y1308.jpg', 'y1062.jpg', 'y1240.jpg', 'y1165.jpg', 'y1426.jpg', 'y1404.jpg', 'y195.jpg', 'y134.jpg', 'y1325.jpg', 'y1282.jpg', 'y129.jpg', 'y1407.jpg', 'y1482.jpg', 'y1417.jpg', 'y1079.jpg', 'y1208.jpg', 'y16.jpg', 'y1495.jpg', 'y1.jpg', 'y1405.jpg', 'y112.jpg', 'y1115.jpg', 'y135.jpg', 'y199.jpg', 'y138.jpg', 'y1080.jpg', 'y1074.jpg', 'y1067.jpg', 'y1024.jpg', 'y1183.jpg', 'y1133.jpg', 'y1117.jpg', 'y1320.jpg', 'y1142.jpg', 'y1131.jpg', 'y1391.jpg', 'y1381.jpg', 'y1088.jpg', 'y1491.jpg', 'y1498.jpg', 'y1236.jpg', 'y1025.jpg', 'y1147.jpg', 'y1366.jpg', 'y175.jpg', 'y183.jpg', 'y105.jpg', 'y13.jpg', 'y1497.jpg', 'y1305.jpg', 'y1435.jpg', 'y1225.jpg', 'y1421.jpg', 'y1114.jpg', 'y1124.jpg', 'y1329.jpg', 'y1363.jpg', 'y1149.jpg', 'y1042.jpg', 'y1444.jpg', 'y0.jpg', 'y1337.jpg', 'y1159.jpg', 'y1180.jpg', 'y1354.jpg', 'y1490.jpg', 'y1182.jpg', 'y1327.jpg', 'y125.jpg', 'y1333.jpg', 'y186.jpg', 'y122.jpg', 'y1021.jpg', 'y1204.jpg', 'y1269.jpg', 'y114.jpg', 'y1260.jpg', 'y141.jpg', 'y1398.jpg', 'y1396.jpg', 'y1380.jpg', 'y1036.jpg', 'y1119.jpg', 'y1410.jpg', 'y181.jpg', 'y1297.jpg', 'y1154.jpg', 'y1429.jpg', 'y1316.jpg', 'y1449.jpg', 'y1214.jpg', 'y1043.jpg', 'y1386.jpg', 'y1069.jpg', 'y1436.jpg', 'y163.jpg', 'y1402.jpg', 'y1172.jpg', 'y1198.jpg', 'y1289.jpg', 'y1044.jpg', 'y1185.jpg', 'y1186.jpg', 'y132.jpg', 'y187.jpg', 'y1278.jpg', 'y1409.jpg', 'y1349.jpg', 'y1280.jpg', 'y1057.jpg', 'y1052.jpg', 'y1128.jpg', 'y1250.jpg', 'y117.jpg', 'y1039.jpg', 'y1053.jpg', 'y1082.jpg', 'y146.jpg', 'y1102.jpg', 'y1293.jpg', 'y1175.jpg', 'y1134.jpg', 'y168.jpg', 'y1166.jpg', 'y1218.jpg', 'y108.jpg', 'y1006.jpg']\n"
          ]
        }
      ],
      "source": [
        "yes_files = os.listdir(\"/content/drive/MyDrive/DDB/New folder (2)/yes\")"
      ]
    },
    {
      "cell_type": "code",
      "execution_count": null,
      "metadata": {
        "id": "PVQegwG5JEbf"
      },
      "outputs": [],
      "source": [
        "no_files = os.listdir(\"/content/drive/MyDrive/DDB/New folder (2)/no\")"
      ]
    },
    {
      "cell_type": "code",
      "execution_count": null,
      "metadata": {
        "id": "8w_FtGGIKOka"
      },
      "outputs": [],
      "source": [
        "from PIL import Image\n",
        "import cv2\n",
        "import numpy as np\n"
      ]
    },
    {
      "cell_type": "code",
      "execution_count": null,
      "metadata": {
        "id": "P25BafWzLtmf"
      },
      "outputs": [],
      "source": [
        "data = []\n",
        "label = []"
      ]
    },
    {
      "cell_type": "code",
      "execution_count": null,
      "metadata": {
        "id": "n2IYFFasKP_g"
      },
      "outputs": [],
      "source": [
        "for i, image_name in enumerate(no_files):\n",
        "  if image_name.split(\".\")[1] == \"jpg\":\n",
        "    image = cv2.imread(\"/content/drive/MyDrive/DDB/New folder (2)/no\"+\"/\"+image_name)\n",
        "    image = Image.fromarray(image,\"RGB\")\n",
        "    image = image.resize((128,128))\n",
        "    data.append(np.array(image))\n",
        "    label.append(0)"
      ]
    },
    {
      "cell_type": "code",
      "execution_count": null,
      "metadata": {
        "id": "qzC3eltFLVym"
      },
      "outputs": [],
      "source": [
        "for i, image_name in enumerate(yes_files):\n",
        "  if image_name.split(\".\")[1] == \"jpg\":\n",
        "    image = cv2.imread(\"/content/drive/MyDrive/DDB/New folder (2)/yes\"+\"/\"+image_name)\n",
        "    image = Image.fromarray(image,\"RGB\")\n",
        "    image = image.resize((128,128))\n",
        "    data.append(np.array(image))\n",
        "    label.append(1)"
      ]
    },
    {
      "cell_type": "code",
      "execution_count": null,
      "metadata": {
        "colab": {
          "base_uri": "https://localhost:8080/"
        },
        "id": "ofIY0IT9tQUi",
        "outputId": "21748a99-11b7-4d8c-82e5-f2bf20a2f618"
      },
      "outputs": [
        {
          "output_type": "stream",
          "name": "stdout",
          "text": [
            "********** 2400 600\n",
            "Epoch 1/15\n",
            "75/75 [==============================] - 24s 313ms/step - loss: 0.5276 - accuracy: 0.7583 - val_loss: 0.4731 - val_accuracy: 0.7717\n",
            "Epoch 2/15\n",
            "75/75 [==============================] - 23s 313ms/step - loss: 0.3577 - accuracy: 0.8475 - val_loss: 0.2932 - val_accuracy: 0.8783\n",
            "Epoch 3/15\n",
            "75/75 [==============================] - 24s 316ms/step - loss: 0.2322 - accuracy: 0.9137 - val_loss: 0.2159 - val_accuracy: 0.9133\n",
            "Epoch 4/15\n",
            "75/75 [==============================] - 24s 322ms/step - loss: 0.1674 - accuracy: 0.9400 - val_loss: 0.1870 - val_accuracy: 0.9333\n",
            "Epoch 5/15\n",
            "75/75 [==============================] - 24s 316ms/step - loss: 0.1205 - accuracy: 0.9608 - val_loss: 0.1467 - val_accuracy: 0.9550\n",
            "Epoch 6/15\n",
            "75/75 [==============================] - 24s 315ms/step - loss: 0.0913 - accuracy: 0.9721 - val_loss: 0.1334 - val_accuracy: 0.9633\n",
            "Epoch 7/15\n",
            "75/75 [==============================] - 24s 315ms/step - loss: 0.0706 - accuracy: 0.9783 - val_loss: 0.1275 - val_accuracy: 0.9667\n",
            "Epoch 8/15\n",
            "75/75 [==============================] - 24s 314ms/step - loss: 0.0536 - accuracy: 0.9842 - val_loss: 0.1200 - val_accuracy: 0.9733\n",
            "Epoch 9/15\n",
            "75/75 [==============================] - 24s 322ms/step - loss: 0.0505 - accuracy: 0.9846 - val_loss: 0.1268 - val_accuracy: 0.9733\n",
            "Epoch 10/15\n",
            "75/75 [==============================] - 24s 320ms/step - loss: 0.0512 - accuracy: 0.9842 - val_loss: 0.1408 - val_accuracy: 0.9717\n",
            "Epoch 11/15\n",
            "75/75 [==============================] - 24s 317ms/step - loss: 0.0384 - accuracy: 0.9883 - val_loss: 0.1502 - val_accuracy: 0.9650\n",
            "Epoch 12/15\n",
            "75/75 [==============================] - 24s 316ms/step - loss: 0.0316 - accuracy: 0.9908 - val_loss: 0.1671 - val_accuracy: 0.9717\n",
            "Epoch 13/15\n",
            "75/75 [==============================] - 24s 314ms/step - loss: 0.0349 - accuracy: 0.9879 - val_loss: 0.1468 - val_accuracy: 0.9667\n",
            "Epoch 14/15\n",
            "75/75 [==============================] - 24s 314ms/step - loss: 0.0367 - accuracy: 0.9875 - val_loss: 0.1570 - val_accuracy: 0.9667\n",
            "Epoch 15/15\n",
            "75/75 [==============================] - 24s 314ms/step - loss: 0.0276 - accuracy: 0.9904 - val_loss: 0.1446 - val_accuracy: 0.9700\n"
          ]
        }
      ],
      "source": [
        "from sklearn.model_selection import train_test_split\n",
        "import tensorflow as tf\n",
        "x_train , x_test , y_train , y_test = train_test_split(data,label,test_size=0.2,random_state=0)\n",
        "\n",
        "print(f\"********** {len(x_train)} {len(x_test)}\")\n",
        "import keras\n",
        "\n",
        "#import tensorflow as tf\n",
        "#from keras.utils import normalize\n",
        "\n",
        "#!pip install --upgrade pip\n",
        "\n",
        "#!pip install keras\n",
        "#!pip install tensorflow\n",
        "\n",
        "from tensorflow import keras\n",
        "\n",
        "x_train = tf.keras.utils.normalize(x_train,axis=1)\n",
        "\n",
        "x_test = tf.keras.utils.normalize(x_test,axis=1)\n",
        "\n",
        "from keras.models import Sequential\n",
        "from keras.layers import Conv2D,MaxPooling2D,Activation,Dropout,Flatten,Dense\n",
        "\n",
        "model = Sequential()\n",
        "\n",
        "model = Sequential()\n",
        "model.add(Conv2D(32, (4, 4), input_shape=(128, 128, 3)))\n",
        "model.add(Activation('relu'))\n",
        "model.add(MaxPooling2D(pool_size=(3, 3)))\n",
        "\n",
        "model.add(Flatten())\n",
        "model.add(Dense(32))\n",
        "model.add(Activation('relu'))\n",
        "model.add(Dropout(0.5))\n",
        "model.add(Dense(1))\n",
        "model.add(Activation('sigmoid'))\n",
        "\n",
        "model.compile(loss='binary_crossentropy',\n",
        "              optimizer='adam',\n",
        "              metrics=['accuracy'])\n",
        "\n",
        "x_train = np.array(x_train)\n",
        "x_test = np.array(x_test)\n",
        "y_test = np.array(y_test)\n",
        "y_train = np.array(y_train)\n",
        "\n",
        "model.fit(x_train,y_train,batch_size=32,epochs=15,validation_data=(x_test,y_test),shuffle=False,verbose=1)\n",
        "\n",
        "model.save(\"BrainTumorDetection.h5\")"
      ]
    }
  ],
  "metadata": {
    "colab": {
      "name": "Brain-Tumor-Detection.ipynb",
      "provenance": [],
      "collapsed_sections": []
    },
    "kernelspec": {
      "display_name": "Python 3",
      "name": "python3"
    },
    "language_info": {
      "name": "python"
    }
  },
  "nbformat": 4,
  "nbformat_minor": 0
}
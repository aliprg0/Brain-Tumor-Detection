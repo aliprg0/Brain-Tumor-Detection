{
  "cells": [
    {
      "cell_type": "code",
      "execution_count": 1,
      "metadata": {
        "colab": {
          "base_uri": "https://localhost:8080/"
        },
        "id": "ekBQJO9optIy",
        "outputId": "47442603-18e2-4acf-a56f-874d01b02713"
      },
      "outputs": [
        {
          "output_type": "stream",
          "name": "stdout",
          "text": [
            "Mounted at /content/drive\n"
          ]
        }
      ],
      "source": [
        "from google.colab import drive\n",
        "drive.mount('/content/drive')"
      ]
    },
    {
      "cell_type": "code",
      "execution_count": 2,
      "metadata": {
        "id": "C2e6t1C1H3XY"
      },
      "outputs": [],
      "source": [
        "import os"
      ]
    },
    {
      "cell_type": "code",
      "execution_count": 3,
      "metadata": {
        "id": "pm-oQtqwH4LY"
      },
      "outputs": [],
      "source": [
        "yes_files = os.listdir(\"/content/drive/MyDrive/DDB/New folder (2)/yes\")"
      ]
    },
    {
      "cell_type": "code",
      "execution_count": 4,
      "metadata": {
        "id": "PVQegwG5JEbf"
      },
      "outputs": [],
      "source": [
        "no_files = os.listdir(\"/content/drive/MyDrive/DDB/New folder (2)/no\")"
      ]
    },
    {
      "cell_type": "code",
      "execution_count": 5,
      "metadata": {
        "id": "8w_FtGGIKOka"
      },
      "outputs": [],
      "source": [
        "from PIL import Image\n",
        "import cv2\n",
        "import numpy as np\n"
      ]
    },
    {
      "cell_type": "code",
      "execution_count": 6,
      "metadata": {
        "id": "P25BafWzLtmf"
      },
      "outputs": [],
      "source": [
        "data = []\n",
        "label = []"
      ]
    },
    {
      "cell_type": "code",
      "execution_count": 7,
      "metadata": {
        "id": "n2IYFFasKP_g"
      },
      "outputs": [],
      "source": [
        "for i, image_name in enumerate(no_files):\n",
        "  if image_name.split(\".\")[1] == \"jpg\":\n",
        "    image = cv2.imread(\"/content/drive/MyDrive/DDB/New folder (2)/no\"+\"/\"+image_name)\n",
        "    image = Image.fromarray(image,\"RGB\")\n",
        "    image = image.resize((128,128))\n",
        "    data.append(np.array(image))\n",
        "    label.append(0)"
      ]
    },
    {
      "cell_type": "code",
      "execution_count": 8,
      "metadata": {
        "id": "qzC3eltFLVym"
      },
      "outputs": [],
      "source": [
        "for i, image_name in enumerate(yes_files):\n",
        "  if image_name.split(\".\")[1] == \"jpg\":\n",
        "    image = cv2.imread(\"/content/drive/MyDrive/DDB/New folder (2)/yes\"+\"/\"+image_name)\n",
        "    image = Image.fromarray(image,\"RGB\")\n",
        "    image = image.resize((128,128))\n",
        "    data.append(np.array(image))\n",
        "    label.append(1)"
      ]
    },
    {
      "cell_type": "code",
      "execution_count": 9,
      "metadata": {
        "colab": {
          "base_uri": "https://localhost:8080/"
        },
        "id": "ofIY0IT9tQUi",
        "outputId": "257cf26f-d92c-497c-b852-5f5709274d2e"
      },
      "outputs": [
        {
          "output_type": "stream",
          "name": "stdout",
          "text": [
            "********** 2400 600\n",
            "Epoch 1/15\n",
            "75/75 [==============================] - 22s 286ms/step - loss: 0.5162 - accuracy: 0.7579 - val_loss: 0.4350 - val_accuracy: 0.8033\n",
            "Epoch 2/15\n",
            "75/75 [==============================] - 21s 283ms/step - loss: 0.3355 - accuracy: 0.8608 - val_loss: 0.2780 - val_accuracy: 0.8800\n",
            "Epoch 3/15\n",
            "75/75 [==============================] - 21s 285ms/step - loss: 0.2071 - accuracy: 0.9242 - val_loss: 0.2081 - val_accuracy: 0.9183\n",
            "Epoch 4/15\n",
            "75/75 [==============================] - 21s 285ms/step - loss: 0.1442 - accuracy: 0.9546 - val_loss: 0.1932 - val_accuracy: 0.9400\n",
            "Epoch 5/15\n",
            "75/75 [==============================] - 21s 284ms/step - loss: 0.1159 - accuracy: 0.9646 - val_loss: 0.1767 - val_accuracy: 0.9517\n",
            "Epoch 6/15\n",
            "75/75 [==============================] - 21s 283ms/step - loss: 0.0887 - accuracy: 0.9742 - val_loss: 0.1576 - val_accuracy: 0.9583\n",
            "Epoch 7/15\n",
            "75/75 [==============================] - 21s 283ms/step - loss: 0.0759 - accuracy: 0.9717 - val_loss: 0.1469 - val_accuracy: 0.9617\n",
            "Epoch 8/15\n",
            "75/75 [==============================] - 21s 283ms/step - loss: 0.0489 - accuracy: 0.9842 - val_loss: 0.1450 - val_accuracy: 0.9683\n",
            "Epoch 9/15\n",
            "75/75 [==============================] - 21s 284ms/step - loss: 0.0347 - accuracy: 0.9896 - val_loss: 0.1524 - val_accuracy: 0.9683\n",
            "Epoch 10/15\n",
            "75/75 [==============================] - 21s 284ms/step - loss: 0.0300 - accuracy: 0.9925 - val_loss: 0.1647 - val_accuracy: 0.9667\n",
            "Epoch 11/15\n",
            "75/75 [==============================] - 21s 283ms/step - loss: 0.0327 - accuracy: 0.9892 - val_loss: 0.1611 - val_accuracy: 0.9717\n",
            "Epoch 12/15\n",
            "75/75 [==============================] - 21s 282ms/step - loss: 0.0282 - accuracy: 0.9896 - val_loss: 0.1656 - val_accuracy: 0.9717\n",
            "Epoch 13/15\n",
            "75/75 [==============================] - 21s 284ms/step - loss: 0.0246 - accuracy: 0.9912 - val_loss: 0.1453 - val_accuracy: 0.9717\n",
            "Epoch 14/15\n",
            "75/75 [==============================] - 21s 283ms/step - loss: 0.0230 - accuracy: 0.9921 - val_loss: 0.1776 - val_accuracy: 0.9733\n",
            "Epoch 15/15\n",
            "75/75 [==============================] - 21s 285ms/step - loss: 0.0177 - accuracy: 0.9950 - val_loss: 0.1725 - val_accuracy: 0.9717\n"
          ]
        }
      ],
      "source": [
        "from sklearn.model_selection import train_test_split\n",
        "import tensorflow as tf\n",
        "x_train , x_test , y_train , y_test = train_test_split(data,label,test_size=0.2,random_state=0)\n",
        "\n",
        "print(f\"********** {len(x_train)} {len(x_test)}\")\n",
        "import keras\n",
        "\n",
        "#import tensorflow as tf\n",
        "#from keras.utils import normalize\n",
        "\n",
        "#!pip install --upgrade pip\n",
        "\n",
        "#!pip install keras\n",
        "#!pip install tensorflow\n",
        "\n",
        "from tensorflow import keras\n",
        "\n",
        "x_train = tf.keras.utils.normalize(x_train,axis=1)\n",
        "\n",
        "x_test = tf.keras.utils.normalize(x_test,axis=1)\n",
        "\n",
        "from keras.models import Sequential\n",
        "from keras.layers import Conv2D,MaxPooling2D,Activation,Dropout,Flatten,Dense\n",
        "\n",
        "model = Sequential()\n",
        "\n",
        "model = Sequential()\n",
        "model.add(Conv2D(32, (4, 4), input_shape=(128, 128, 3)))\n",
        "model.add(Activation('relu'))\n",
        "model.add(MaxPooling2D(pool_size=(3, 3)))\n",
        "\n",
        "model.add(Flatten())\n",
        "model.add(Dense(32))\n",
        "model.add(Activation('relu'))\n",
        "model.add(Dropout(0.5))\n",
        "model.add(Dense(1))\n",
        "model.add(Activation('sigmoid'))\n",
        "\n",
        "model.compile(loss='binary_crossentropy',\n",
        "              optimizer='adam',\n",
        "              metrics=['accuracy'])\n",
        "\n",
        "x_train = np.array(x_train)\n",
        "x_test = np.array(x_test)\n",
        "y_test = np.array(y_test)\n",
        "y_train = np.array(y_train)\n",
        "\n",
        "model.fit(x_train,y_train,batch_size=32,epochs=15,validation_data=(x_test,y_test),shuffle=False,verbose=1)\n",
        "\n",
        "model.save(\"BrainTumorDetection.h5\")"
      ]
    }
  ],
  "metadata": {
    "colab": {
      "name": "Brain-Tumor-Detection.ipynb",
      "provenance": [],
      "collapsed_sections": []
    },
    "kernelspec": {
      "display_name": "Python 3",
      "name": "python3"
    },
    "language_info": {
      "name": "python"
    }
  },
  "nbformat": 4,
  "nbformat_minor": 0
}